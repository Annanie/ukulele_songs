{
 "cells": [
  {
   "cell_type": "code",
   "execution_count": 8,
   "metadata": {
    "collapsed": false
   },
   "outputs": [],
   "source": [
    "url = \"http://ukulizer.com/show_files.php?dir=english&title=English+ukulele+songs\"\n"
   ]
  },
  {
   "cell_type": "code",
   "execution_count": 9,
   "metadata": {
    "collapsed": false
   },
   "outputs": [],
   "source": [
    "import requests as rq\n",
    "from bs4 import BeautifulSoup\n",
    "raw = rq.get(url)\n",
    "page = BeautifulSoup(raw.text,\"lxml\")"
   ]
  },
  {
   "cell_type": "code",
   "execution_count": 10,
   "metadata": {
    "collapsed": false
   },
   "outputs": [],
   "source": [
    "songs = page.findAll(\"table\")\n",
    "songs = songs[2]\n",
    "songs = songs.findAll(\"a\")"
   ]
  },
  {
   "cell_type": "code",
   "execution_count": 11,
   "metadata": {
    "collapsed": false
   },
   "outputs": [],
   "source": [
    "links = {}\n",
    "\n",
    "for song in songs:\n",
    "    link = song.attrs[\"href\"]\n",
    "    link = link.replace(\" \", \"%20\")\n",
    "    link = link[1:]\n",
    "    links[song.text] = link"
   ]
  },
  {
   "cell_type": "code",
   "execution_count": 12,
   "metadata": {
    "collapsed": false
   },
   "outputs": [],
   "source": [
    "import re\n",
    "\n",
    "def get_text(url):\n",
    "    page = rq.get(url)\n",
    "    page = BeautifulSoup(page.text,\"lxml\")\n",
    "    header = page.findAll(\"p\")\n",
    "    title = str(header[0])[18:-4]\n",
    "    author = str(header[1])[3:-10]\n",
    "    text = page.findAll(\"span\")\n",
    "    txt = title + \"\\n\" + author + \"\\n\\n\\n\"\n",
    "    for row in text:\n",
    "        line = row.text\n",
    "        line = re.sub('\\xa0', ' ',line)\n",
    "        txt += line + \"\\n\"\n",
    "    return txt"
   ]
  },
  {
   "cell_type": "code",
   "execution_count": 15,
   "metadata": {
    "collapsed": false
   },
   "outputs": [
    {
     "name": "stderr",
     "output_type": "stream",
     "text": [
      "100%|██████████| 274/274 [01:40<00:00,  2.50it/s]\n"
     ]
    },
    {
     "data": {
      "text/plain": [
       "474683"
      ]
     },
     "execution_count": 15,
     "metadata": {},
     "output_type": "execute_result"
    }
   ],
   "source": [
    "from tqdm import tqdm\n",
    "\n",
    "main_url = \"http://ukulizer.com\"\n",
    "main = \"\"\n",
    "\n",
    "for song in tqdm(links.keys()):\n",
    "    song_name = str(song.replace(\" \",\"\"))\n",
    "    filename = song_name + '.txt'\n",
    "    f = open(filename, 'w')\n",
    "    text = get_text(main_url + links[song])\n",
    "    main += text + \"\\n\\n\\n\"\n",
    "    f.write(text)\n",
    "\n",
    "f = open('main.txt','w')\n",
    "f.write(main)"
   ]
  },
  {
   "cell_type": "code",
   "execution_count": null,
   "metadata": {
    "collapsed": false
   },
   "outputs": [],
   "source": []
  },
  {
   "cell_type": "code",
   "execution_count": null,
   "metadata": {
    "collapsed": true
   },
   "outputs": [],
   "source": []
  },
  {
   "cell_type": "code",
   "execution_count": null,
   "metadata": {
    "collapsed": true
   },
   "outputs": [],
   "source": []
  },
  {
   "cell_type": "code",
   "execution_count": null,
   "metadata": {
    "collapsed": true
   },
   "outputs": [],
   "source": []
  },
  {
   "cell_type": "code",
   "execution_count": null,
   "metadata": {
    "collapsed": true
   },
   "outputs": [],
   "source": []
  },
  {
   "cell_type": "code",
   "execution_count": null,
   "metadata": {
    "collapsed": true
   },
   "outputs": [],
   "source": []
  }
 ],
 "metadata": {
  "kernelspec": {
   "display_name": "Python 3",
   "language": "python",
   "name": "python3"
  },
  "language_info": {
   "codemirror_mode": {
    "name": "ipython",
    "version": 3
   },
   "file_extension": ".py",
   "mimetype": "text/x-python",
   "name": "python",
   "nbconvert_exporter": "python",
   "pygments_lexer": "ipython3",
   "version": "3.5.1"
  }
 },
 "nbformat": 4,
 "nbformat_minor": 0
}
